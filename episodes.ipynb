{
 "cells": [
  {
   "cell_type": "markdown",
   "metadata": {},
   "source": [
    "##### doc - https://developers.transistor.fm/#episodes"
   ]
  },
  {
   "cell_type": "code",
   "execution_count": null,
   "metadata": {},
   "outputs": [],
   "source": [
    "!pip install pandas-gbq\n",
    "!pip install google-cloud-secret-manager\n",
    "!pip install google-cloud-storage\n",
    "!pip install google-api-core==2.8.0"
   ]
  },
  {
   "cell_type": "code",
   "execution_count": null,
   "metadata": {},
   "outputs": [],
   "source": [
    "# usando a lib storage do GCP (bucket)\n",
    "from google.cloud import storage\n",
    "\n",
    "# Instanciando client do storage\n",
    "client = storage.Client(project=\"dev-stalse\")\n",
    "\n",
    "for atual_file in client.list_blobs('dev-stalse-us-notebooks', prefix='dependencies_podlink'):\n",
    "    _a = str(atual_file).split(\",\")\n",
    "    _folder_atual = \"gs://dev-stalse-us-notebooks/\"\n",
    "    \n",
    "    if \"stalse_functions.py\" in _a[1]:\n",
    "        path_atual = _folder_atual+_a[1]\n",
    "        path_atual = path_atual.replace(\" \", \"\")\n",
    "        path_atual = path_atual.split(\"/\")\n",
    "        nome_script = path_atual[4]\n",
    "        \n",
    "        with open(nome_script, 'wb') as file_obj:\n",
    "            client.download_blob_to_file(\n",
    "                'gs://dev-stalse-us-notebooks/dependencies_podlink/{}'.format(nome_script), file_obj)"
   ]
  },
  {
   "cell_type": "code",
   "execution_count": null,
   "metadata": {},
   "outputs": [],
   "source": [
    "# import libs\n",
    "import requests, json\n",
    "import stalse_functions as sf\n",
    "import pandas as pd"
   ]
  },
  {
   "cell_type": "code",
   "execution_count": null,
   "metadata": {},
   "outputs": [],
   "source": [
    "# obtendo episódios\n",
    "def req_apisodes(page=0):\n",
    "    \"\"\"Função que recupera uma lista paginada de episódios em ordem decrescente por data publicada\n",
    "\n",
    "    Args:\n",
    "        per (int, optional): Quantidade de resultados por página. Defaults to 10.\n",
    "        page (int, optional): Número da página. Defaults to 0.\n",
    "\n",
    "    Returns:\n",
    "        json: Informações descritivas de cada episódio\n",
    "    \"\"\"\n",
    "    \n",
    "    # utilizando a api-key do KMS\n",
    "    apikey = sf.keygcp('msc-apikey-transistor')\n",
    "    \n",
    "    # tratando paginação\n",
    "    if page==0:\n",
    "        url = \"https://api.transistor.fm/v1/episodes?pagination[per]=10&pagination[page]=1\"\n",
    "    \n",
    "    else:\n",
    "        url = \"https://api.transistor.fm/v1/episodes?pagination[per]=10&pagination[page]=\"+str(page)\n",
    "\n",
    "    payload={}\n",
    "    headers = {\n",
    "    'x-api-key': apikey\n",
    "    }\n",
    "\n",
    "    response = requests.get(url, headers=headers, data=payload)\n",
    "    \n",
    "    # transformando a resposta da requisição em json\n",
    "    res = response.text\n",
    "    res = json.loads(res)\n",
    "    return res"
   ]
  },
  {
   "cell_type": "code",
   "execution_count": null,
   "metadata": {},
   "outputs": [],
   "source": [
    "# totalizando episódios para usar no 'for' futuramente e com este número tratar a paginação\n",
    "total_valores = req_apisodes()['meta']['totalCount']"
   ]
  },
  {
   "cell_type": "code",
   "execution_count": null,
   "metadata": {},
   "outputs": [],
   "source": [
    "# buscando apenas as colunas necessárias\n",
    "df_cols = ['id']\n",
    "df_inner_cols = ['title', 'number', 'season', 'status', 'published_at', 'duration', 'explicit', 'keywords', 'alternate_url', 'media_url', \n",
    "                 'image_url', 'author', 'summary', 'created_at', 'updated_at', 'duration_in_mmss', \n",
    "                 'share_url', 'audio_processing', 'type', 'email_notifications']"
   ]
  },
  {
   "cell_type": "code",
   "execution_count": null,
   "metadata": {},
   "outputs": [],
   "source": [
    "# percorrendo os níveis do json para gerar dados e popular no df futuramete\n",
    "epsodes_data = []\n",
    "\n",
    "for i in range(1, total_valores):\n",
    "    atual_value=req_apisodes(i)\n",
    "    \n",
    "    # nível 1 do json\n",
    "    for epsode in atual_value['data']:\n",
    "        _c = []\n",
    "        for col in df_cols:\n",
    "            try:\n",
    "                _c.append(epsode[col])\n",
    "            except KeyError:\n",
    "                _c.append(None)\n",
    "        \n",
    "        # nível 2 do json            \n",
    "        for innercol in df_inner_cols:\n",
    "            try:\n",
    "                _c.append(epsode['attributes'][innercol])\n",
    "            except KeyError:\n",
    "                _c.append(None)\n",
    "        \n",
    "        # informação aglutinada dos dois níveis do json\n",
    "        epsodes_data.append(_c)"
   ]
  },
  {
   "cell_type": "code",
   "execution_count": null,
   "metadata": {},
   "outputs": [],
   "source": [
    "# jutando as colunas de diferentes níveis do json \n",
    "ndf = df_cols + df_inner_cols\n",
    "\n",
    "# criando df com as informações obtidas acima\n",
    "df_episodes = pd.DataFrame(data=epsodes_data, columns=ndf)"
   ]
  },
  {
   "cell_type": "code",
   "execution_count": null,
   "metadata": {},
   "outputs": [],
   "source": [
    "# obtendo id's do BigQuery\n",
    "id_tabela = \"`mosaic-fertilizantes.podcast.episodes`\"\n",
    "project = id_tabela.split('.')[0]"
   ]
  },
  {
   "cell_type": "code",
   "execution_count": null,
   "metadata": {},
   "outputs": [],
   "source": [
    "# deletando SOMENTE os ID's que a API retornou\n",
    "sf.deleta_ids(df_episodes, 'id', id_tabela, project)"
   ]
  },
  {
   "cell_type": "code",
   "execution_count": null,
   "metadata": {},
   "outputs": [],
   "source": [
    "# criando e consumindo csv para importação no BigQuery\n",
    "csv = sf.csv_bucket(df_episodes, 'episodes')"
   ]
  },
  {
   "cell_type": "code",
   "execution_count": null,
   "metadata": {},
   "outputs": [],
   "source": [
    "table_schema=[\n",
    "{'name': 'id','type': 'INTEGER'},\n",
    "{'name': 'title','type': 'STRING'},\n",
    "{'name': 'number','type': 'INTEGER'},\n",
    "{'name': 'season','type': 'INTEGER'},\n",
    "{'name': 'status','type': 'STRING'},\n",
    "{'name': 'published_at','type': 'STRING'},\n",
    "{'name': 'duration','type': 'INTEGER'},\n",
    "{'name': 'explicit','type': 'BOOLEAN'},\n",
    "{'name': 'keywords','type': 'STRING'}, # API mudou de este campo de float para string (18/07)\n",
    "{'name': 'alternate_url','type': 'FLOAT'},\n",
    "{'name': 'media_url','type': 'STRING'},\n",
    "{'name': 'image_url','type': 'STRING'},\n",
    "{'name': 'author','type': 'STRING'}, # API mudou de este campo de float para string (15/08)\n",
    "{'name': 'summary','type': 'STRING'}, # API mudou de este campo de float para string (29/08)\n",
    "{'name': 'created_at','type': 'STRING'},\n",
    "{'name': 'updated_at','type': 'STRING'},\n",
    "{'name': 'duration_in_mmss','type': 'STRING'},\n",
    "{'name': 'share_url','type': 'STRING'},\n",
    "{'name': 'audio_processing','type': 'BOOLEAN'},\n",
    "{'name': 'type','type': 'STRING'},\n",
    "{'name': 'email_notifications','type': 'FLOAT'}\n",
    "]"
   ]
  },
  {
   "cell_type": "code",
   "execution_count": null,
   "metadata": {},
   "outputs": [],
   "source": [
    "# criando a tabela no BigQuery\n",
    "sf.cria_bq(df_episodes, id_tabela, 'append', project, csv, \"us-east4\", table_schema)"
   ]
  }
 ],
 "metadata": {
  "kernelspec": {
   "display_name": "Python (Local)",
   "language": "python",
   "name": "local-base"
  },
  "language_info": {
   "codemirror_mode": {
    "name": "ipython",
    "version": 3
   },
   "file_extension": ".py",
   "mimetype": "text/x-python",
   "name": "python",
   "nbconvert_exporter": "python",
   "pygments_lexer": "ipython3",
   "version": "3.7.12"
  },
  "vscode": {
   "interpreter": {
    "hash": "7d41ed749fb933bd49b2ad5aad56929cef562b7637f21432338a9391e095fd83"
   }
  }
 },
 "nbformat": 4,
 "nbformat_minor": 4
}
