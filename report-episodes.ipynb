{
 "cells": [
  {
   "cell_type": "markdown",
   "metadata": {},
   "source": [
    "##### doc - https://developers.transistor.fm/#analytics"
   ]
  },
  {
   "cell_type": "code",
   "execution_count": null,
   "metadata": {},
   "outputs": [],
   "source": [
    "# usando a lib storage do GCP (bucket)\n",
    "from google.cloud import storage\n",
    "\n",
    "# Instanciando client do storage\n",
    "client = storage.Client(project=\"dev-stalse\")\n",
    "\n",
    "for atual_file in client.list_blobs('dev-stalse-us-notebooks', prefix='dependencies_podlink'):\n",
    "    _a = str(atual_file).split(\",\")\n",
    "    _folder_atual = \"gs://dev-stalse-us-notebooks/\"\n",
    "    \n",
    "    if \"stalse_functions.py\" in _a[1]:\n",
    "        path_atual = _folder_atual+_a[1]\n",
    "        path_atual = path_atual.replace(\" \", \"\")\n",
    "        path_atual = path_atual.split(\"/\")\n",
    "        nome_script = path_atual[4]\n",
    "        \n",
    "        with open(nome_script, 'wb') as file_obj:\n",
    "            client.download_blob_to_file(\n",
    "                'gs://dev-stalse-us-notebooks/dependencies_podlink/{}'.format(nome_script), file_obj)"
   ]
  },
  {
   "cell_type": "code",
   "execution_count": null,
   "metadata": {},
   "outputs": [],
   "source": [
    "!pip install pandas-gbq\n",
    "!pip install google-cloud-secret-manager\n",
    "!pip install google-cloud-storage\n",
    "!pip install google-api-core==2.8.0"
   ]
  },
  {
   "cell_type": "code",
   "execution_count": null,
   "metadata": {},
   "outputs": [],
   "source": [
    "# import libs\n",
    "import requests, json, pandas_gbq\n",
    "import stalse_functions as sf\n",
    "import pandas as pd\n",
    "import datetime as dt"
   ]
  },
  {
   "cell_type": "code",
   "execution_count": null,
   "metadata": {},
   "outputs": [],
   "source": [
    "# obtendo report de episódios\n",
    "def report_apisodes(id_episode, start_date=0, end_date=0):\n",
    "    \"\"\"Função que recupera análises de downloads por data para cada podcast\n",
    "\n",
    "    Args:\n",
    "        id_episode (int): ID do epsódio\n",
    "        start_date (str, opcional): Data de início para análise. Defaults: últimos 14 dias.\n",
    "        end_date (str, opcional): Data de término para análise. Defaults: data atual.\n",
    "\n",
    "    Returns:\n",
    "        json: Informações de downloads/data\n",
    "    \"\"\"\n",
    "    \n",
    "    # utilizando a api-key do KMS\n",
    "    apikey = sf.keygcp('msc-apikey-transistor')\n",
    "    \n",
    "    # requisição dos últimos 14 dias por padrão\n",
    "    if start_date == 0 and end_date == 0:\n",
    "        url = \"https://api.transistor.fm/v1/analytics/episodes/\"+str(id_episode)\n",
    "        \n",
    "    else:\n",
    "        url = \"https://api.transistor.fm/v1/analytics/episodes/\"+str(id_episode)+\"?start_date=\"+str(start_date)+\"&end_date=\"+str(end_date)\n",
    "        \n",
    "    payload={}\n",
    "    headers = {\n",
    "    'x-api-key': apikey\n",
    "    }\n",
    "\n",
    "    response = requests.get(url, headers=headers, data=payload)\n",
    "    \n",
    "    # transformando a resposta da requisição em json\n",
    "    res = response.text\n",
    "    res = json.loads(res)\n",
    "    return res"
   ]
  },
  {
   "cell_type": "code",
   "execution_count": null,
   "metadata": {},
   "outputs": [],
   "source": [
    "# criando stringquery para trazer todos os id's dos AD's\n",
    "query_str = '''SELECT distinct id FROM `mosaic-fertilizantes.podcast.episodes`'''"
   ]
  },
  {
   "cell_type": "code",
   "execution_count": null,
   "metadata": {},
   "outputs": [],
   "source": [
    "# consultando os id's da tabela \"podcast.episodes\" para inserir no df df_query_ids\n",
    "query_ads_ids = pandas_gbq.read_gbq(query_str, project_id=\"salonline-prd\")"
   ]
  },
  {
   "cell_type": "code",
   "execution_count": null,
   "metadata": {},
   "outputs": [],
   "source": [
    "# criando df\n",
    "df_query_ids = pd.DataFrame()\n",
    "df_query_ids = df_query_ids.append(query_ads_ids, ignore_index=True)"
   ]
  },
  {
   "cell_type": "code",
   "execution_count": null,
   "metadata": {},
   "outputs": [],
   "source": [
    "# tratando os id's para futuramente e inserindo na variael \"total_valores\"\n",
    "query_ads_ids = list(query_ads_ids['id'])\n",
    "total_valores = len(query_ads_ids)"
   ]
  },
  {
   "cell_type": "code",
   "execution_count": null,
   "metadata": {},
   "outputs": [],
   "source": [
    "# buscando apenas as colunas necessárias\n",
    "df_cols = ['id']\n",
    "df_inner_cols = ['date', 'downloads']"
   ]
  },
  {
   "cell_type": "code",
   "execution_count": null,
   "metadata": {},
   "outputs": [],
   "source": [
    "# contabilizando datas para exluir 5 últimos dias do BQ\n",
    "end_date = dt.date.today()\n",
    "start_date = end_date - dt.timedelta(days=5)\n",
    "start_date = start_date.strftime('%d-%m-%Y')\n",
    "end_date = end_date.strftime('%d-%m-%Y')"
   ]
  },
  {
   "cell_type": "code",
   "execution_count": null,
   "metadata": {},
   "outputs": [],
   "source": [
    "# percorrendo os níveis do json para gerar dados e popular no df futuramete\n",
    "episodes_data = []\n",
    "\n",
    "for id in query_ads_ids:\n",
    "    atual_value=report_apisodes(id, start_date, str(end_date))\n",
    "    \n",
    "    # validando a qtde de downloads/dia\n",
    "    for epsode in atual_value['data']['attributes']['downloads']:\n",
    "        _c = []\n",
    "        \n",
    "        # nível 1 do json\n",
    "        for col in df_cols:\n",
    "            _c.append(atual_value['data'][col])            \n",
    "            \n",
    "        # nível 2 do json\n",
    "        for inner_col in df_inner_cols:\n",
    "            _c.append(epsode[inner_col])\n",
    "        \n",
    "        episodes_data.append(_c)"
   ]
  },
  {
   "cell_type": "code",
   "execution_count": null,
   "metadata": {},
   "outputs": [],
   "source": [
    "# jutando as colunas de diferentes níveis do json \n",
    "ndf = df_cols + df_inner_cols\n",
    "\n",
    "# criando df com as informações obtidas acima\n",
    "df_episodes_report = pd.DataFrame(data=episodes_data, columns=ndf)"
   ]
  },
  {
   "cell_type": "code",
   "execution_count": null,
   "metadata": {},
   "outputs": [],
   "source": [
    "# convertendo date(%d-%m-%Y) para datetime(%Y-%m-%d)\n",
    "df_episodes_report['date'] = pd.to_datetime(df_episodes_report['date'], format=\"%d-%m-%Y\")"
   ]
  },
  {
   "cell_type": "code",
   "execution_count": null,
   "metadata": {},
   "outputs": [],
   "source": [
    "# apagando valores zerados\n",
    "drop_zeros=df_episodes_report[df_episodes_report[\"downloads\"]==0].index\n",
    "df_episodes_report=df_episodes_report.drop(drop_zeros)"
   ]
  },
  {
   "cell_type": "code",
   "execution_count": null,
   "metadata": {},
   "outputs": [],
   "source": [
    "# deletando datas, neste caso 5 dias\n",
    "id_tabela = \"`mosaic-fertilizantes.podcast.episodes_report`\"\n",
    "sf.deleta_datas(df_episodes_report, 'date', id_tabela, 'mosaic-fertilizantes')"
   ]
  },
  {
   "cell_type": "code",
   "execution_count": null,
   "metadata": {},
   "outputs": [],
   "source": [
    "# criando e consumindo csv para importação no BigQuery\n",
    "csv = sf.csv_bucket(df_episodes_report, 'episodes_report')"
   ]
  },
  {
   "cell_type": "code",
   "execution_count": null,
   "metadata": {},
   "outputs": [],
   "source": [
    "# criando a tabela no BigQuery\n",
    "sf.cria_bq(df_episodes_report, id_tabela, 'append', 'mosaic-fertilizantes', csv)"
   ]
  }
 ],
 "metadata": {
  "kernelspec": {
   "display_name": "Python (Local)",
   "language": "python",
   "name": "local-base"
  },
  "language_info": {
   "codemirror_mode": {
    "name": "ipython",
    "version": 3
   },
   "file_extension": ".py",
   "mimetype": "text/x-python",
   "name": "python",
   "nbconvert_exporter": "python",
   "pygments_lexer": "ipython3",
   "version": "3.7.12"
  },
  "vscode": {
   "interpreter": {
    "hash": "7d41ed749fb933bd49b2ad5aad56929cef562b7637f21432338a9391e095fd83"
   }
  }
 },
 "nbformat": 4,
 "nbformat_minor": 4
}
